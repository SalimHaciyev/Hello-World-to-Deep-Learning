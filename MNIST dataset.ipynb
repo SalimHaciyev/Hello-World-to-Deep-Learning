{
 "cells": [
  {
   "cell_type": "code",
   "execution_count": 1,
   "id": "3ea34a2f",
   "metadata": {},
   "outputs": [
    {
     "name": "stdout",
     "output_type": "stream",
     "text": [
      "2.7.0\n"
     ]
    }
   ],
   "source": [
    "import tensorflow as tf\n",
    "from tensorflow import keras\n",
    "import matplotlib.pyplot as plt\n",
    "import numpy as np\n",
    "import cv2\n",
    "print(tf.__version__)"
   ]
  },
  {
   "cell_type": "code",
   "execution_count": 4,
   "id": "a06fe49f",
   "metadata": {},
   "outputs": [
    {
     "data": {
      "text/plain": [
       "(28, 28)"
      ]
     },
     "execution_count": 4,
     "metadata": {},
     "output_type": "execute_result"
    }
   ],
   "source": [
    "(x_train, y_train), (x_test, y_test) = keras.datasets.mnist.load_data()\n",
    "\n",
    "len(x_train) # 60000\n",
    "\n",
    "len(x_test) # 10000\n",
    "\n",
    "x_train[0].shape "
   ]
  },
  {
   "cell_type": "code",
   "execution_count": 5,
   "id": "01a67352",
   "metadata": {},
   "outputs": [],
   "source": [
    "x_train = x_train / 255\n",
    "x_test = x_test / 255"
   ]
  },
  {
   "cell_type": "code",
   "execution_count": 6,
   "id": "30094c71",
   "metadata": {},
   "outputs": [],
   "source": [
    "x_train_flattened = x_train.reshape(len(x_train), 28*28)\n",
    "x_test_flattened = x_test.reshape(len(x_test), 28*28)"
   ]
  },
  {
   "cell_type": "code",
   "execution_count": 7,
   "id": "b58de1c0",
   "metadata": {},
   "outputs": [
    {
     "name": "stdout",
     "output_type": "stream",
     "text": [
      "Epoch 1/15\n",
      "1875/1875 [==============================] - 2s 1ms/step - loss: 0.2737 - accuracy: 0.9159\n",
      "Epoch 2/15\n",
      "1875/1875 [==============================] - 2s 1ms/step - loss: 0.1221 - accuracy: 0.9633\n",
      "Epoch 3/15\n",
      "1875/1875 [==============================] - 2s 1ms/step - loss: 0.0944 - accuracy: 0.9716\n",
      "Epoch 4/15\n",
      "1875/1875 [==============================] - 2s 1ms/step - loss: 0.0785 - accuracy: 0.9768\n",
      "Epoch 5/15\n",
      "1875/1875 [==============================] - 2s 1ms/step - loss: 0.0626 - accuracy: 0.9813\n",
      "Epoch 6/15\n",
      "1875/1875 [==============================] - 2s 1ms/step - loss: 0.0581 - accuracy: 0.9829\n",
      "Epoch 7/15\n",
      "1875/1875 [==============================] - 2s 1ms/step - loss: 0.0483 - accuracy: 0.9853\n",
      "Epoch 8/15\n",
      "1875/1875 [==============================] - 2s 1ms/step - loss: 0.0431 - accuracy: 0.9870\n",
      "Epoch 9/15\n",
      "1875/1875 [==============================] - 2s 1ms/step - loss: 0.0411 - accuracy: 0.9880\n",
      "Epoch 10/15\n",
      "1875/1875 [==============================] - 2s 1ms/step - loss: 0.0368 - accuracy: 0.9893\n",
      "Epoch 11/15\n",
      "1875/1875 [==============================] - 2s 1ms/step - loss: 0.0317 - accuracy: 0.9907\n",
      "Epoch 12/15\n",
      "1875/1875 [==============================] - 2s 1ms/step - loss: 0.0310 - accuracy: 0.9908\n",
      "Epoch 13/15\n",
      "1875/1875 [==============================] - 2s 1ms/step - loss: 0.0274 - accuracy: 0.9920\n",
      "Epoch 14/15\n",
      "1875/1875 [==============================] - 2s 1ms/step - loss: 0.0264 - accuracy: 0.9920\n",
      "Epoch 15/15\n",
      "1875/1875 [==============================] - 2s 1ms/step - loss: 0.0260 - accuracy: 0.9924\n"
     ]
    }
   ],
   "source": [
    "model = keras.Sequential([\n",
    "    keras.layers.Dense(100, input_shape=(784,), activation='relu'),\n",
    "    keras.layers.Dense(100, input_shape=(784,), activation='relu'),\n",
    "    keras.layers.Dense(100, input_shape=(784,), activation='relu'),\n",
    "    keras.layers.Dense(100, input_shape=(784,), activation='relu'),\n",
    "    keras.layers.Dense(100, input_shape=(784,), activation='relu'),\n",
    "    keras.layers.Dense(100, input_shape=(784,), activation='relu'),\n",
    "    keras.layers.Dense(10, activation='sigmoid')\n",
    "])\n",
    "\n",
    "\n",
    "model.compile(\n",
    "    optimizer='adam',\n",
    "    loss='sparse_categorical_crossentropy',\n",
    "    metrics=['accuracy']\n",
    ")\n",
    "\n",
    "history = model.fit(x_train_flattened, y_train, epochs=15)"
   ]
  },
  {
   "cell_type": "code",
   "execution_count": 12,
   "id": "7332c5a8",
   "metadata": {},
   "outputs": [
    {
     "name": "stdout",
     "output_type": "stream",
     "text": [
      "Epoch 1/5\n",
      "1875/1875 [==============================] - 2s 729us/step - loss: 0.2752 - accuracy: 0.9218\n",
      "Epoch 2/5\n",
      "1875/1875 [==============================] - 1s 725us/step - loss: 0.1248 - accuracy: 0.9638\n",
      "Epoch 3/5\n",
      "1875/1875 [==============================] - 1s 752us/step - loss: 0.0876 - accuracy: 0.9738\n",
      "Epoch 4/5\n",
      "1875/1875 [==============================] - 1s 728us/step - loss: 0.0667 - accuracy: 0.9796\n",
      "Epoch 5/5\n",
      "1875/1875 [==============================] - 1s 729us/step - loss: 0.0535 - accuracy: 0.9832\n"
     ]
    }
   ],
   "source": [
    "model = keras.Sequential([\n",
    "    keras.layers.Dense(100, input_shape=(784,), activation='relu'),\n",
    "    keras.layers.Dense(10, activation='sigmoid')\n",
    "])\n",
    "\n",
    "\n",
    "model.compile(\n",
    "    optimizer='adam',\n",
    "    loss='sparse_categorical_crossentropy',\n",
    "    metrics=['accuracy']\n",
    ")\n",
    "\n",
    "history = model.fit(x_train_flattened, y_train, epochs=5)"
   ]
  },
  {
   "cell_type": "code",
   "execution_count": 8,
   "id": "845890ae",
   "metadata": {},
   "outputs": [
    {
     "name": "stdout",
     "output_type": "stream",
     "text": [
      "313/313 [==============================] - 0s 634us/step - loss: 0.0979 - accuracy: 0.9775\n"
     ]
    },
    {
     "data": {
      "text/plain": [
       "[0.09790270030498505, 0.9775000214576721]"
      ]
     },
     "execution_count": 8,
     "metadata": {},
     "output_type": "execute_result"
    }
   ],
   "source": [
    "model.evaluate(x_test_flattened, y_test)"
   ]
  },
  {
   "cell_type": "code",
   "execution_count": 16,
   "id": "fda9d03f",
   "metadata": {},
   "outputs": [],
   "source": [
    "def custom_image(img_path):\n",
    "    img_path = \"C:/Users/ASUS TUF/Desktop/Quick Access/dl/custom handwritings/\" + img_path\n",
    "    img2 = cv2.imread(img_path, 0)\n",
    "\n",
    "    img2 = img2 / 255\n",
    "    # img2 = np.invert(np.array([img2]))\n",
    "    img2 = img2.reshape(1, 28*28)\n",
    "    img2Y = model.predict(img2)\n",
    "    img2_result = np.argmax(img2Y)\n",
    "    print(\"Result   ->   \", img2_result, end = \"\\t\")\n",
    "\n",
    "    img2Y = img2Y.reshape(10)\n",
    "    scce = tf.keras.losses.SparseCategoricalCrossentropy()\n",
    "    print(\"Loss:\",scce(img2_result, img2Y).numpy())\n",
    "    return img2_result"
   ]
  },
  {
   "cell_type": "code",
   "execution_count": 17,
   "id": "abc1b123",
   "metadata": {
    "scrolled": true
   },
   "outputs": [
    {
     "name": "stdout",
     "output_type": "stream",
     "text": [
      "---The tested number:  0\n",
      "Result   ->    5\tLoss: 1.5037844\n",
      "Result   ->    7\tLoss: 1.064895\n",
      "Result   ->    5\tLoss: 0.6017993\n",
      "\n",
      "---The tested number:  1\n",
      "Result   ->    1\tLoss: 1.0804758\n",
      "Result   ->    8\tLoss: 1.0599918\n",
      "Result   ->    5\tLoss: 0.5946368\n",
      "\n",
      "---The tested number:  2\n",
      "Result   ->    2\tLoss: 0.37181866\n",
      "Result   ->    2\tLoss: 1.4229752\n",
      "Result   ->    5\tLoss: 0.1472527\n",
      "\n",
      "---The tested number:  3\n",
      "Result   ->    2\tLoss: 0.8020439\n",
      "Result   ->    2\tLoss: 0.38062522\n",
      "Result   ->    1\tLoss: 0.6983774\n",
      "\n",
      "---The tested number:  4\n",
      "Result   ->    4\tLoss: 0.9931302\n",
      "Result   ->    4\tLoss: 1.1746964\n",
      "Result   ->    1\tLoss: 0.9690931\n",
      "\n",
      "---The tested number:  5\n",
      "Result   ->    2\tLoss: 1.4466077\n",
      "Result   ->    5\tLoss: 0.65510774\n",
      "Result   ->    5\tLoss: 0.6707932\n",
      "\n",
      "---The tested number:  6\n",
      "Result   ->    5\tLoss: 1.1611875\n",
      "Result   ->    5\tLoss: 0.9864876\n",
      "Result   ->    2\tLoss: 0.6971914\n",
      "\n",
      "---The tested number:  7\n",
      "Result   ->    7\tLoss: 0.9451132\n",
      "Result   ->    2\tLoss: 0.26521128\n",
      "Result   ->    5\tLoss: 0.69235736\n",
      "\n",
      "---The tested number:  8\n",
      "Result   ->    3\tLoss: 1.0171094\n",
      "Result   ->    8\tLoss: 1.2527928\n",
      "Result   ->    5\tLoss: 0.49752554\n",
      "\n",
      "---The tested number:  9\n",
      "Result   ->    1\tLoss: 0.8088618\n",
      "Result   ->    2\tLoss: 0.9545246\n",
      "Result   ->    5\tLoss: 0.7695737\n",
      "\n"
     ]
    }
   ],
   "source": [
    "acc = 0\n",
    "for xx in range(0, 10):\n",
    "  print(\"---The tested number: \", xx)\n",
    "\n",
    "  test1 = custom_image(f't{xx}.png')\n",
    "  if(test1 == xx) : acc+=1\n",
    "\n",
    "  test2 = custom_image(f't{xx}-2.png')\n",
    "  if(test2 == xx) : acc+=1\n",
    "  \n",
    "  test3 = custom_image(f't{xx}-3.png')\n",
    "  if(test3 == xx) : acc+=1\n",
    "\n",
    "  print()"
   ]
  },
  {
   "cell_type": "code",
   "execution_count": 18,
   "id": "4136e69b",
   "metadata": {},
   "outputs": [
    {
     "data": {
      "text/plain": [
       "0.3333333333333333"
      ]
     },
     "execution_count": 18,
     "metadata": {},
     "output_type": "execute_result"
    }
   ],
   "source": [
    "acc/30"
   ]
  },
  {
   "cell_type": "code",
   "execution_count": 19,
   "id": "58b133e3",
   "metadata": {},
   "outputs": [
    {
     "data": {
      "text/plain": [
       "10"
      ]
     },
     "execution_count": 19,
     "metadata": {},
     "output_type": "execute_result"
    }
   ],
   "source": [
    "acc"
   ]
  }
 ],
 "metadata": {
  "kernelspec": {
   "display_name": "Python 3",
   "language": "python",
   "name": "python3"
  },
  "language_info": {
   "codemirror_mode": {
    "name": "ipython",
    "version": 3
   },
   "file_extension": ".py",
   "mimetype": "text/x-python",
   "name": "python",
   "nbconvert_exporter": "python",
   "pygments_lexer": "ipython3",
   "version": "3.8.8"
  }
 },
 "nbformat": 4,
 "nbformat_minor": 5
}
